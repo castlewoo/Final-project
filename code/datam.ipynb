{
 "cells": [
  {
   "cell_type": "code",
   "execution_count": 1,
   "id": "7ee862bc",
   "metadata": {},
   "outputs": [],
   "source": [
    "from IPython.core.interactiveshell import InteractiveShell\n",
    "InteractiveShell.ast_node_interactivity = \"all\""
   ]
  },
  {
   "cell_type": "code",
   "execution_count": 2,
   "id": "213a52bc",
   "metadata": {},
   "outputs": [],
   "source": [
    "from datetime import date, datetime\n",
    "from pyspark.sql.types import *\n",
    "from pyspark.sql.functions import *\n",
    "import datetime as dt\n",
    "import pandas as pd"
   ]
  },
  {
   "cell_type": "code",
   "execution_count": 3,
   "id": "69d20bcb",
   "metadata": {},
   "outputs": [],
   "source": [
    "conf_dw = {\n",
    "      'url':'jdbc:mysql://localhost:3306/etlmysql?characterEncoding=utf8&serverTimezone=Asia/Seoul'\n",
    "     ,'props':{\n",
    "      'user':'bigMysql',\n",
    "      'password':'bigMysql1234@'   \n",
    "      }\n",
    "}\n",
    "\n",
    "conf_dm = {\n",
    "      'url':'jdbc:mysql://localhost:3306/etlmysqlDM?characterEncoding=utf8&serverTimezone=Asia/Seoul'\n",
    "     ,'props':{\n",
    "      'user':'bigDM',\n",
    "      'password':'bigDM1234@'   \n",
    "      }\n",
    "}"
   ]
  },
  {
   "cell_type": "code",
   "execution_count": 4,
   "id": "53a0dabc",
   "metadata": {},
   "outputs": [],
   "source": [
    "# table 저장 / 반환 관련한 함수 구성\n",
    "# config : db 연결 정보\n",
    "# spark.read.jdbc() : db에서 명시된 테이블을 반환받는 모듈\n",
    "def find_data(config, table_name) :\n",
    "    return spark.read.jdbc(url= config['url'], table=table_name, properties=config['props'])\n",
    "\n",
    "def save_data(config, df, table_name) :\n",
    "    return df.write.jdbc(url= config['url'], table=table_name, mode='overwrite' , properties=config['props'])"
   ]
  },
  {
   "cell_type": "code",
   "execution_count": 6,
   "id": "ed40f7fb",
   "metadata": {},
   "outputs": [],
   "source": [
    "food_info = find_data(conf_dw, 'FOOD_INFO')"
   ]
  },
  {
   "cell_type": "code",
   "execution_count": 7,
   "id": "f1b0e4ca",
   "metadata": {},
   "outputs": [
    {
     "name": "stdout",
     "output_type": "stream",
     "text": [
      "+------------+----------------------------------+------------------------------------+\n",
      "|        food|                              info|                          ingredient|\n",
      "+------------+----------------------------------+------------------------------------+\n",
      "|    비빔냉면|    냉면(冷麵, 문화어: 랭면)은 ...|    냉면사리 2인분,시판냉면육수 1...|\n",
      "|      비빔밥|  비빔밥은 한국의 밥 요리이다. ...|         돼지고기 100g,애호박 1/5...|\n",
      "|      삼겹살| 삼겹살의 다른 뜻은 다음과 같다...|         돼지고기 600g,깻잎 10장,...|\n",
      "|      삼계탕|  삼계탕(蔘鷄湯, 문화어: 인삼닭...|    닭 2마리,삼계탕용약재,찹쌀,마...|\n",
      "|      설렁탕|         설렁탕(영어: Seolleong...|          무 1개,쪽파 150g,설탕 4...|\n",
      "|        순대| 순대는 한국의 음식으로, 돼지의...|        순대500g,양배추3컵,깻잎 1...|\n",
      "|  순두부찌개|순두부찌개는 순두부를 주재료로 ...|        순두부,대파 1/4개,양파 1/...|\n",
      "|    양념게장|    양념게장(---醬)은 한국의 게...|     냉동 꽃게 4마리,간장(소주컵)...|\n",
      "|    양념치킨|양념치킨은 한국식 닭튀김 요리로...|      물엿 4큰술,다진 마늘 2큰술,...|\n",
      "|        육회|육회는 대한민국의 요리에서 회의...|     소고기(앞다리/우둔/엉덩이) 1...|\n",
      "|        잡채|        잡채(雜菜, 영어: Japcha...|    당면 1줌반,당근 약간,파프리카...|\n",
      "|    제육볶음|        제육 볶음(豬肉-, Stir-f...|    돼지고기앞다리살 1근,양파 1개...|\n",
      "|        족발|  족발의 다른 뜻은 다음과 같다....|       남은족발 1줌,양파 1/4개,땡...|\n",
      "|  주꾸미볶음|주꾸미볶음은 주꾸미에 양념을 묻...|      쭈꾸미 10마리,양파 1개,대파...|\n",
      "|      짜장면|    짜장면(-醬麵) 또는 자장면(-...|       양파 1개,양배추 1/5개,돼지...|\n",
      "|      칼국수|  칼국수(문화어: 칼제비국)는 손...|        칼국수 면 2인분 300g,멸치...|\n",
      "|        파전|   파전(-煎)은 전의 일종으로 거...|   쪽파,당근,청양고추,홍고추,달걀...|\n",
      "|      해물찜|                                  |        오징어 2마리,새우 500g,홍...|\n",
      "|    황태구이|        명태(明太, 영어: Alaska...|      황태 1마리,고추장 1T,고춧가...|\n",
      "|후라이드치킨|      프라이드 치킨(영어: fried...|닭볶음탕용닭,소금,후추,우유,부침가루|\n",
      "+------------+----------------------------------+------------------------------------+\n",
      "only showing top 20 rows\n",
      "\n"
     ]
    },
    {
     "data": {
      "text/plain": [
       "pyspark.sql.dataframe.DataFrame"
      ]
     },
     "execution_count": 7,
     "metadata": {},
     "output_type": "execute_result"
    }
   ],
   "source": [
    "food_info.show()\n",
    "type(food_info)"
   ]
  },
  {
   "cell_type": "code",
   "execution_count": 8,
   "id": "b30db9f5",
   "metadata": {},
   "outputs": [],
   "source": [
    "pork = ['돼지', '족발', '햄']\n",
    "beef = ['소고기','소불고기']\n",
    "egg = ['계란','달걀']\n",
    "offal = ['곱창','순대']\n",
    "def categorize_ingredient(ingredient):\n",
    "    for e in pork:\n",
    "        if e in ingredient:\n",
    "            return 'Pork'\n",
    "    for e in beef:\n",
    "        if e in ingredient:\n",
    "            return 'Beef'\n",
    "    for e in egg:\n",
    "        if e in ingredient:\n",
    "            return 'Egg'\n",
    "    for e in offal:\n",
    "        if e in ingredient:\n",
    "            return 'Offal'\n",
    "    else:\n",
    "        return 'None'"
   ]
  },
  {
   "cell_type": "code",
   "execution_count": 10,
   "id": "e7642ed9",
   "metadata": {},
   "outputs": [
    {
     "name": "stdout",
     "output_type": "stream",
     "text": [
      "+------------+----------------------------------+------------------------------------+----------------+\n",
      "|        food|                              info|                          ingredient|taboo_ingredient|\n",
      "+------------+----------------------------------+------------------------------------+----------------+\n",
      "|    비빔냉면|    냉면(冷麵, 문화어: 랭면)은 ...|    냉면사리 2인분,시판냉면육수 1...|             Egg|\n",
      "|      비빔밥|  비빔밥은 한국의 밥 요리이다. ...|         돼지고기 100g,애호박 1/5...|            Pork|\n",
      "|      삼겹살| 삼겹살의 다른 뜻은 다음과 같다...|         돼지고기 600g,깻잎 10장,...|            Pork|\n",
      "|      삼계탕|  삼계탕(蔘鷄湯, 문화어: 인삼닭...|    닭 2마리,삼계탕용약재,찹쌀,마...|            None|\n",
      "|      설렁탕|         설렁탕(영어: Seolleong...|          무 1개,쪽파 150g,설탕 4...|            None|\n",
      "|        순대| 순대는 한국의 음식으로, 돼지의...|        순대500g,양배추3컵,깻잎 1...|           Offal|\n",
      "|  순두부찌개|순두부찌개는 순두부를 주재료로 ...|        순두부,대파 1/4개,양파 1/...|             Egg|\n",
      "|    양념게장|    양념게장(---醬)은 한국의 게...|     냉동 꽃게 4마리,간장(소주컵)...|            None|\n",
      "|    양념치킨|양념치킨은 한국식 닭튀김 요리로...|      물엿 4큰술,다진 마늘 2큰술,...|            None|\n",
      "|        육회|육회는 대한민국의 요리에서 회의...|     소고기(앞다리/우둔/엉덩이) 1...|            Beef|\n",
      "|        잡채|        잡채(雜菜, 영어: Japcha...|    당면 1줌반,당근 약간,파프리카...|            Pork|\n",
      "|    제육볶음|        제육 볶음(豬肉-, Stir-f...|    돼지고기앞다리살 1근,양파 1개...|            Pork|\n",
      "|        족발|  족발의 다른 뜻은 다음과 같다....|       남은족발 1줌,양파 1/4개,땡...|            Pork|\n",
      "|  주꾸미볶음|주꾸미볶음은 주꾸미에 양념을 묻...|      쭈꾸미 10마리,양파 1개,대파...|            None|\n",
      "|      짜장면|    짜장면(-醬麵) 또는 자장면(-...|       양파 1개,양배추 1/5개,돼지...|            Pork|\n",
      "|      칼국수|  칼국수(문화어: 칼제비국)는 손...|        칼국수 면 2인분 300g,멸치...|             Egg|\n",
      "|        파전|   파전(-煎)은 전의 일종으로 거...|   쪽파,당근,청양고추,홍고추,달걀...|             Egg|\n",
      "|      해물찜|                                  |        오징어 2마리,새우 500g,홍...|            None|\n",
      "|    황태구이|        명태(明太, 영어: Alaska...|      황태 1마리,고추장 1T,고춧가...|            None|\n",
      "|후라이드치킨|      프라이드 치킨(영어: fried...|닭볶음탕용닭,소금,후추,우유,부침가루|            None|\n",
      "+------------+----------------------------------+------------------------------------+----------------+\n",
      "only showing top 20 rows\n",
      "\n"
     ]
    }
   ],
   "source": [
    "# 사용자 정의 함수를 PySpark UDF로 변환\n",
    "categorize_udf = udf(categorize_ingredient, StringType())\n",
    "\n",
    "# 'taboo_ingredient' 컬럼 추가\n",
    "result_df =food_info.withColumn('taboo_ingredient', categorize_udf('ingredient'))\n",
    "\n",
    "# 결과 확인\n",
    "result_df.show()"
   ]
  },
  {
   "cell_type": "code",
   "execution_count": 13,
   "id": "ebfdaae6",
   "metadata": {},
   "outputs": [],
   "source": [
    "save_data(conf_dm, result_df, 'FOOD_INFO_WITH_TABOO')"
   ]
  },
  {
   "cell_type": "code",
   "execution_count": null,
   "id": "22198113",
   "metadata": {},
   "outputs": [],
   "source": []
  },
  {
   "cell_type": "code",
   "execution_count": 5,
   "id": "a9be6b66",
   "metadata": {},
   "outputs": [],
   "source": [
    "restaurant_list = find_data(conf_dw, 'RESTAURANT_LIST')"
   ]
  },
  {
   "cell_type": "code",
   "execution_count": 7,
   "id": "8893ea0d",
   "metadata": {},
   "outputs": [
    {
     "data": {
      "text/plain": [
       "2070"
      ]
     },
     "execution_count": 7,
     "metadata": {},
     "output_type": "execute_result"
    },
    {
     "name": "stdout",
     "output_type": "stream",
     "text": [
      "root\n",
      " |-- addr: string (nullable = true)\n",
      " |-- food: string (nullable = true)\n",
      " |-- re_rank1: string (nullable = true)\n",
      " |-- re_rank2: string (nullable = true)\n",
      " |-- re_rank3: string (nullable = true)\n",
      " |-- re_rank4: string (nullable = true)\n",
      " |-- re_rank5: string (nullable = true)\n",
      " |-- re_visitor: string (nullable = true)\n",
      " |-- store_name: string (nullable = true)\n",
      " |-- tel: string (nullable = true)\n",
      "\n"
     ]
    }
   ],
   "source": [
    "# 크롤링한 데이터에서 서울이 아닌 다른지역 음식점 데이터 제거\n",
    "restaurant_list = restaurant_list.filter(col(\"addr\").startswith(\"서울\"))\n",
    "restaurant_list.count()\n",
    "restaurant_list.printSchema()"
   ]
  },
  {
   "cell_type": "code",
   "execution_count": 11,
   "id": "d83fc1f2",
   "metadata": {},
   "outputs": [],
   "source": [
    "df = restaurant_list"
   ]
  },
  {
   "cell_type": "code",
   "execution_count": 8,
   "id": "af8612dd",
   "metadata": {},
   "outputs": [],
   "source": [
    "# 카카오 API KEY\n",
    "API_KEY = \"98614acfa7370dcb5a0d9e815d6c9e5b\""
   ]
  },
  {
   "cell_type": "code",
   "execution_count": 9,
   "id": "cc6403a0",
   "metadata": {},
   "outputs": [],
   "source": [
    "def convert_address_to_coordinates(address):\n",
    "    api_url = \"https://dapi.kakao.com/v2/local/search/address.json\"\n",
    "    headers = {\"Authorization\": f\"KakaoAK {API_KEY}\"}\n",
    "\n",
    "    params = {\"query\": address}\n",
    "    \n",
    "    try:\n",
    "        response = requests.get(api_url, headers=headers, params=params)\n",
    "        response.raise_for_status()\n",
    "        result = response.json()\n",
    "\n",
    "        if \"documents\" in result and len(result[\"documents\"]) > 0:\n",
    "            coordinates = result[\"documents\"][0][\"y\"], result[\"documents\"][0][\"x\"]\n",
    "            return coordinates\n",
    "        else:\n",
    "            return None\n",
    "    except requests.exceptions.RequestException as e:\n",
    "        print(f\"An error occurred: {e}\")\n",
    "        return None"
   ]
  },
  {
   "cell_type": "code",
   "execution_count": 10,
   "id": "c7ee1705",
   "metadata": {},
   "outputs": [],
   "source": [
    "def add_coordinates_to_dataframe(df, address_column):\n",
    "    latitudes = []\n",
    "    longitudes = []\n",
    "\n",
    "    for address in df[address_column]:\n",
    "        coordinates = convert_address_to_coordinates(address)\n",
    "        if coordinates:\n",
    "            latitudes.append(coordinates[0])\n",
    "            longitudes.append(coordinates[1])\n",
    "        else:\n",
    "            latitudes.append(None)\n",
    "            longitudes.append(None)\n",
    "\n",
    "    df[\"decimalLatitude\"] = latitudes\n",
    "    df[\"decimalLongitude\"] = longitudes"
   ]
  },
  {
   "cell_type": "code",
   "execution_count": 12,
   "id": "780a852c",
   "metadata": {},
   "outputs": [
    {
     "ename": "TypeError",
     "evalue": "Column is not iterable",
     "output_type": "error",
     "traceback": [
      "\u001b[0;31m---------------------------------------------------------------------------\u001b[0m",
      "\u001b[0;31mTypeError\u001b[0m                                 Traceback (most recent call last)",
      "\u001b[0;32m<ipython-input-12-e33418fc5553>\u001b[0m in \u001b[0;36m<module>\u001b[0;34m\u001b[0m\n\u001b[0;32m----> 1\u001b[0;31m \u001b[0madd_coordinates_to_dataframe\u001b[0m\u001b[0;34m(\u001b[0m\u001b[0mdf\u001b[0m\u001b[0;34m,\u001b[0m \u001b[0;34m'addr'\u001b[0m\u001b[0;34m)\u001b[0m\u001b[0;34m\u001b[0m\u001b[0;34m\u001b[0m\u001b[0m\n\u001b[0m",
      "\u001b[0;32m<ipython-input-10-2b89d29fb785>\u001b[0m in \u001b[0;36madd_coordinates_to_dataframe\u001b[0;34m(df, address_column)\u001b[0m\n\u001b[1;32m      3\u001b[0m     \u001b[0mlongitudes\u001b[0m \u001b[0;34m=\u001b[0m \u001b[0;34m[\u001b[0m\u001b[0;34m]\u001b[0m\u001b[0;34m\u001b[0m\u001b[0;34m\u001b[0m\u001b[0m\n\u001b[1;32m      4\u001b[0m \u001b[0;34m\u001b[0m\u001b[0m\n\u001b[0;32m----> 5\u001b[0;31m     \u001b[0;32mfor\u001b[0m \u001b[0maddress\u001b[0m \u001b[0;32min\u001b[0m \u001b[0mdf\u001b[0m\u001b[0;34m[\u001b[0m\u001b[0maddress_column\u001b[0m\u001b[0;34m]\u001b[0m\u001b[0;34m:\u001b[0m\u001b[0;34m\u001b[0m\u001b[0;34m\u001b[0m\u001b[0m\n\u001b[0m\u001b[1;32m      6\u001b[0m         \u001b[0mcoordinates\u001b[0m \u001b[0;34m=\u001b[0m \u001b[0mconvert_address_to_coordinates\u001b[0m\u001b[0;34m(\u001b[0m\u001b[0maddress\u001b[0m\u001b[0;34m)\u001b[0m\u001b[0;34m\u001b[0m\u001b[0;34m\u001b[0m\u001b[0m\n\u001b[1;32m      7\u001b[0m         \u001b[0;32mif\u001b[0m \u001b[0mcoordinates\u001b[0m\u001b[0;34m:\u001b[0m\u001b[0;34m\u001b[0m\u001b[0;34m\u001b[0m\u001b[0m\n",
      "\u001b[0;32m~/spark/python/pyspark/sql/column.py\u001b[0m in \u001b[0;36m__iter__\u001b[0;34m(self)\u001b[0m\n\u001b[1;32m    461\u001b[0m \u001b[0;34m\u001b[0m\u001b[0m\n\u001b[1;32m    462\u001b[0m     \u001b[0;32mdef\u001b[0m \u001b[0m__iter__\u001b[0m\u001b[0;34m(\u001b[0m\u001b[0mself\u001b[0m\u001b[0;34m)\u001b[0m\u001b[0;34m:\u001b[0m\u001b[0;34m\u001b[0m\u001b[0;34m\u001b[0m\u001b[0m\n\u001b[0;32m--> 463\u001b[0;31m         \u001b[0;32mraise\u001b[0m \u001b[0mTypeError\u001b[0m\u001b[0;34m(\u001b[0m\u001b[0;34m\"Column is not iterable\"\u001b[0m\u001b[0;34m)\u001b[0m\u001b[0;34m\u001b[0m\u001b[0;34m\u001b[0m\u001b[0m\n\u001b[0m\u001b[1;32m    464\u001b[0m \u001b[0;34m\u001b[0m\u001b[0m\n\u001b[1;32m    465\u001b[0m     \u001b[0;31m# string methods\u001b[0m\u001b[0;34m\u001b[0m\u001b[0;34m\u001b[0m\u001b[0;34m\u001b[0m\u001b[0m\n",
      "\u001b[0;31mTypeError\u001b[0m: Column is not iterable"
     ]
    }
   ],
   "source": [
    "add_coordinates_to_dataframe(df, 'addr')"
   ]
  }
 ],
 "metadata": {
  "kernelspec": {
   "display_name": "Python 3",
   "language": "python",
   "name": "python3"
  },
  "language_info": {
   "codemirror_mode": {
    "name": "ipython",
    "version": 3
   },
   "file_extension": ".py",
   "mimetype": "text/x-python",
   "name": "python",
   "nbconvert_exporter": "python",
   "pygments_lexer": "ipython3",
   "version": "3.6.9"
  }
 },
 "nbformat": 4,
 "nbformat_minor": 5
}
