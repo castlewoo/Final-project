{
 "cells": [
  {
   "cell_type": "code",
   "execution_count": 17,
   "id": "262fa5ee-9339-47d7-89cc-558b2aaa52fd",
   "metadata": {},
   "outputs": [],
   "source": [
    "from pyspark.sql.functions import udf\n",
    "from pyspark.sql.types import StringType"
   ]
  },
  {
   "cell_type": "code",
   "execution_count": 19,
   "id": "f4cdc104-938d-44ba-bfba-d0baa4bc772e",
   "metadata": {},
   "outputs": [],
   "source": [
    "conf_dw = {\n",
    "      'url':'jdbc:mysql://localhost:3306/finalPrj_DW?characterEncoding=utf8&serverTimezone=Asia/Seoul'\n",
    "      ,'props':{\n",
    "      'user':'bigMysql',\n",
    "      'password':'bigMysql1234@'   \n",
    "      }\n",
    "}\n",
    "conf_dm = {\n",
    "      'url':'jdbc:mysql://localhost:3306/finalPrj_DM?characterEncoding=utf8&serverTimezone=Asia/Seoul'\n",
    "      ,'props':{\n",
    "      'user':'bigDM',\n",
    "      'password':'bigDM1234@'   \n",
    "      }\n",
    "}\n",
    "\n",
    "def find_data(config, table_name) :\n",
    "      return spark.read.jdbc(url= config['url'], table=table_name, properties=config['props'])\n",
    "def save_data(config, df, table_name) :\n",
    "      return df.write.jdbc(url= config['url'], table=table_name, mode='append' , properties=config['props'])   "
   ]
  },
  {
   "cell_type": "code",
   "execution_count": 20,
   "id": "5e59f6cf-d76a-46ab-ab5f-28847da15e70",
   "metadata": {},
   "outputs": [],
   "source": [
    "read_food_info = find_data(conf_dw, 'food_info')"
   ]
  },
  {
   "cell_type": "code",
   "execution_count": 21,
   "id": "1183d423-4c1c-46f9-80c7-0761ac5f0d50",
   "metadata": {},
   "outputs": [
    {
     "name": "stdout",
     "output_type": "stream",
     "text": [
      "+------------+----------------------------------+------------------------------------+\n",
      "|        food|                              info|                          ingredient|\n",
      "+------------+----------------------------------+------------------------------------+\n",
      "|    비빔냉면|    냉면(冷麵, 문화어: 랭면)은 ...|    냉면사리 2인분,시판냉면육수 1...|\n",
      "|      비빔밥|  비빔밥은 한국의 밥 요리이다. ...|         돼지고기 100g,애호박 1/5...|\n",
      "|      삼겹살| 삼겹살의 다른 뜻은 다음과 같다...|         돼지고기 600g,깻잎 10장,...|\n",
      "|      삼계탕|  삼계탕(蔘鷄湯, 문화어: 인삼닭...|    닭 2마리,삼계탕용약재,찹쌀,마...|\n",
      "|      설렁탕|         설렁탕(영어: Seolleong...|          무 1개,쪽파 150g,설탕 4...|\n",
      "|        순대| 순대는 한국의 음식으로, 돼지의...|        순대500g,양배추3컵,깻잎 1...|\n",
      "|  순두부찌개|순두부찌개는 순두부를 주재료로 ...|        순두부,대파 1/4개,양파 1/...|\n",
      "|    양념게장|    양념게장(---醬)은 한국의 게...|     냉동 꽃게 4마리,간장(소주컵)...|\n",
      "|    양념치킨|양념치킨은 한국식 닭튀김 요리로...|      물엿 4큰술,다진 마늘 2큰술,...|\n",
      "|        육회|육회는 대한민국의 요리에서 회의...|     소고기(앞다리/우둔/엉덩이) 1...|\n",
      "|        잡채|        잡채(雜菜, 영어: Japcha...|    당면 1줌반,당근 약간,파프리카...|\n",
      "|    제육볶음|        제육 볶음(豬肉-, Stir-f...|    돼지고기앞다리살 1근,양파 1개...|\n",
      "|        족발|  족발의 다른 뜻은 다음과 같다....|       남은족발 1줌,양파 1/4개,땡...|\n",
      "|  주꾸미볶음|주꾸미볶음은 주꾸미에 양념을 묻...|      쭈꾸미 10마리,양파 1개,대파...|\n",
      "|      짜장면|    짜장면(-醬麵) 또는 자장면(-...|       양파 1개,양배추 1/5개,돼지...|\n",
      "|      칼국수|  칼국수(문화어: 칼제비국)는 손...|        칼국수 면 2인분 300g,멸치...|\n",
      "|        파전|   파전(-煎)은 전의 일종으로 거...|   쪽파,당근,청양고추,홍고추,달걀...|\n",
      "|      해물찜|                                  |        오징어 2마리,새우 500g,홍...|\n",
      "|    황태구이|        명태(明太, 영어: Alaska...|      황태 1마리,고추장 1T,고춧가...|\n",
      "|후라이드치킨|      프라이드 치킨(영어: fried...|닭볶음탕용닭,소금,후추,우유,부침가루|\n",
      "+------------+----------------------------------+------------------------------------+\n",
      "only showing top 20 rows\n",
      "\n"
     ]
    },
    {
     "data": {
      "text/plain": [
       "pyspark.sql.dataframe.DataFrame"
      ]
     },
     "execution_count": 21,
     "metadata": {},
     "output_type": "execute_result"
    }
   ],
   "source": [
    "read_food_info.show()\n",
    "type(read_food_info)"
   ]
  },
  {
   "cell_type": "code",
   "execution_count": 22,
   "id": "9f2c45ec-7734-48d9-88bc-b755514ac374",
   "metadata": {},
   "outputs": [],
   "source": [
    "pork = ['돼지', '족발', '햄']\n",
    "beef = ['소고기','소불고기']\n",
    "egg = ['계란','달걀']\n",
    "offal = ['곱창','순대']\n",
    "def categorize_ingredient(ingredient):\n",
    "    for e in pork:\n",
    "        if e in ingredient:\n",
    "            return 'Pork'\n",
    "    for e in beef:\n",
    "        if e in ingredient:\n",
    "            return 'Beef'\n",
    "    for e in egg:\n",
    "        if e in ingredient:\n",
    "            return 'Egg'\n",
    "    for e in offal:\n",
    "        if e in ingredient:\n",
    "            return 'Offal'\n",
    "    else:\n",
    "        return 'None'"
   ]
  },
  {
   "cell_type": "code",
   "execution_count": 23,
   "id": "1b8a291f-512b-44f1-bf8a-f811439f47fa",
   "metadata": {},
   "outputs": [
    {
     "name": "stdout",
     "output_type": "stream",
     "text": [
      "+------------+----------------------------------+------------------------------------+----------------+\n",
      "|        food|                              info|                          ingredient|taboo_ingredient|\n",
      "+------------+----------------------------------+------------------------------------+----------------+\n",
      "|    비빔냉면|    냉면(冷麵, 문화어: 랭면)은 ...|    냉면사리 2인분,시판냉면육수 1...|             Egg|\n",
      "|      비빔밥|  비빔밥은 한국의 밥 요리이다. ...|         돼지고기 100g,애호박 1/5...|            Pork|\n",
      "|      삼겹살| 삼겹살의 다른 뜻은 다음과 같다...|         돼지고기 600g,깻잎 10장,...|            Pork|\n",
      "|      삼계탕|  삼계탕(蔘鷄湯, 문화어: 인삼닭...|    닭 2마리,삼계탕용약재,찹쌀,마...|            None|\n",
      "|      설렁탕|         설렁탕(영어: Seolleong...|          무 1개,쪽파 150g,설탕 4...|            None|\n",
      "|        순대| 순대는 한국의 음식으로, 돼지의...|        순대500g,양배추3컵,깻잎 1...|           Offal|\n",
      "|  순두부찌개|순두부찌개는 순두부를 주재료로 ...|        순두부,대파 1/4개,양파 1/...|             Egg|\n",
      "|    양념게장|    양념게장(---醬)은 한국의 게...|     냉동 꽃게 4마리,간장(소주컵)...|            None|\n",
      "|    양념치킨|양념치킨은 한국식 닭튀김 요리로...|      물엿 4큰술,다진 마늘 2큰술,...|            None|\n",
      "|        육회|육회는 대한민국의 요리에서 회의...|     소고기(앞다리/우둔/엉덩이) 1...|            Beef|\n",
      "|        잡채|        잡채(雜菜, 영어: Japcha...|    당면 1줌반,당근 약간,파프리카...|            Pork|\n",
      "|    제육볶음|        제육 볶음(豬肉-, Stir-f...|    돼지고기앞다리살 1근,양파 1개...|            Pork|\n",
      "|        족발|  족발의 다른 뜻은 다음과 같다....|       남은족발 1줌,양파 1/4개,땡...|            Pork|\n",
      "|  주꾸미볶음|주꾸미볶음은 주꾸미에 양념을 묻...|      쭈꾸미 10마리,양파 1개,대파...|            None|\n",
      "|      짜장면|    짜장면(-醬麵) 또는 자장면(-...|       양파 1개,양배추 1/5개,돼지...|            Pork|\n",
      "|      칼국수|  칼국수(문화어: 칼제비국)는 손...|        칼국수 면 2인분 300g,멸치...|             Egg|\n",
      "|        파전|   파전(-煎)은 전의 일종으로 거...|   쪽파,당근,청양고추,홍고추,달걀...|             Egg|\n",
      "|      해물찜|                                  |        오징어 2마리,새우 500g,홍...|            None|\n",
      "|    황태구이|        명태(明太, 영어: Alaska...|      황태 1마리,고추장 1T,고춧가...|            None|\n",
      "|후라이드치킨|      프라이드 치킨(영어: fried...|닭볶음탕용닭,소금,후추,우유,부침가루|            None|\n",
      "+------------+----------------------------------+------------------------------------+----------------+\n",
      "only showing top 20 rows\n",
      "\n"
     ]
    }
   ],
   "source": [
    "# 사용자 정의 함수를 PySpark UDF로 변환\n",
    "categorize_udf = udf(categorize_ingredient, StringType())\n",
    "\n",
    "# 'taboo_ingredient' 컬럼 추가\n",
    "result_df = read_food_info.withColumn('taboo_ingredient', categorize_udf('ingredient'))\n",
    "\n",
    "# 결과 확인\n",
    "result_df.show()"
   ]
  },
  {
   "cell_type": "code",
   "execution_count": 25,
   "id": "b9802719-51c0-454b-a4e7-3ed451b0b74f",
   "metadata": {},
   "outputs": [
    {
     "name": "stderr",
     "output_type": "stream",
     "text": [
      "                                                                                \r"
     ]
    }
   ],
   "source": [
    "save_data(conf_dm, result_df, 'food_info_with_taboo')"
   ]
  }
 ],
 "metadata": {
  "kernelspec": {
   "display_name": "Python 3 (ipykernel)",
   "language": "python",
   "name": "python3"
  },
  "language_info": {
   "codemirror_mode": {
    "name": "ipython",
    "version": 3
   },
   "file_extension": ".py",
   "mimetype": "text/x-python",
   "name": "python",
   "nbconvert_exporter": "python",
   "pygments_lexer": "ipython3",
   "version": "3.8.10"
  }
 },
 "nbformat": 4,
 "nbformat_minor": 5
}
