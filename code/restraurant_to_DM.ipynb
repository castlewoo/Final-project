{
 "cells": [
  {
   "cell_type": "code",
   "execution_count": 2,
   "id": "d9f7f9c8-5c36-442d-8fbc-bd4f427354ae",
   "metadata": {},
   "outputs": [],
   "source": [
    "import sys\n",
    "import json\n",
    "import requests \n",
    "import datetime \n",
    "import pandas as pd\n",
    "from pyspark.sql.functions import udf\n",
    "from pyspark.sql.functions import col, desc, when\n",
    "from IPython.core.interactiveshell import InteractiveShell\n",
    "InteractiveShell.ast_node_interactivity = 'all'\n",
    "from pyspark.sql.types import StringType, StructType, StructField, FloatType"
   ]
  },
  {
   "cell_type": "code",
   "execution_count": 3,
   "id": "367ea630-2b4b-48ab-b9bd-f1dd3b7c0a18",
   "metadata": {},
   "outputs": [],
   "source": [
    "# 데이터 이동 함수 선언\n",
    "conf_dw = {\n",
    "      'url':'jdbc:mysql://localhost:3306/etlmysql?characterEncoding=utf8&serverTimezone=Asia/Seoul'\n",
    "     ,'props':{\n",
    "      'user':'bigMysql',\n",
    "      'password':'bigMysql1234@'   \n",
    "      }\n",
    "}\n",
    "conf_dm = {\n",
    "      'url':'jdbc:mysql://localhost:3306/etlmysqlDM?characterEncoding=utf8&serverTimezone=Asia/Seoul'\n",
    "     ,'props':{\n",
    "      'user':'bigDM',\n",
    "      'password':'bigDM1234@'   \n",
    "      }\n",
    "}\n",
    "def find_data(config, table_name) :\n",
    "    return spark.read.jdbc(url= config['url'], table=table_name, properties=config['props'])\n",
    "def save_data(config, df, table_name) :\n",
    "    return df.write.jdbc(url= config['url'], table=table_name, mode='overwrite' , properties=config['props'])   \n"
   ]
  },
  {
   "cell_type": "code",
   "execution_count": 4,
   "id": "0f51f02b-13a1-41ec-aa10-fd9b42e94e10",
   "metadata": {},
   "outputs": [],
   "source": [
    "# 데이터 프레임 생성\n",
    "read_restaurant_info = find_data(conf_dw, 'RESTAURANT_LIST')"
   ]
  },
  {
   "cell_type": "code",
   "execution_count": 5,
   "id": "bbdc0c40-deb6-49e3-9642-59e7477c95ac",
   "metadata": {},
   "outputs": [
    {
     "data": {
      "text/plain": [
       "2054"
      ]
     },
     "execution_count": 5,
     "metadata": {},
     "output_type": "execute_result"
    },
    {
     "name": "stdout",
     "output_type": "stream",
     "text": [
      "root\n",
      " |-- addr: string (nullable = true)\n",
      " |-- food: string (nullable = true)\n",
      " |-- re_rank1: string (nullable = true)\n",
      " |-- re_rank2: string (nullable = true)\n",
      " |-- re_rank3: string (nullable = true)\n",
      " |-- re_rank4: string (nullable = true)\n",
      " |-- re_rank5: string (nullable = true)\n",
      " |-- re_visitor: string (nullable = true)\n",
      " |-- store_name: string (nullable = true)\n",
      " |-- tel: string (nullable = true)\n",
      " |-- id: long (nullable = true)\n",
      "\n"
     ]
    }
   ],
   "source": [
    "# 크롤링한 데이터에서 서울이 아닌 다른지역 음식점 데이터 제거\n",
    "read_restaurant_info = read_restaurant_info.filter(col(\"addr\").startswith(\"서울\"))\n",
    "read_restaurant_info.count()\n",
    "read_restaurant_info.printSchema()"
   ]
  },
  {
   "cell_type": "code",
   "execution_count": 6,
   "id": "7a33f457-c8ae-48c4-b2c1-7a1fbb93a542",
   "metadata": {},
   "outputs": [],
   "source": [
    "# 카카오 API연결\n",
    "KAKAO_API_KEY = \"18b9e741e7c823f8ba016456591a5d00\" #카카오 restapi 키 등록"
   ]
  },
  {
   "cell_type": "code",
   "execution_count": 7,
   "id": "d3c371bf-b15e-4455-bdd4-872bd629a90e",
   "metadata": {},
   "outputs": [],
   "source": [
    "## 카카오서버에 요청 후 응답받은 데이터를 반환하는 함수\n",
    "def json_request(url):\n",
    "    headers = {'Authorization': 'KakaoAK {}'.format(KAKAO_API_KEY)}\n",
    "    res = requests.get(url, headers=headers)\n",
    "    return res.text"
   ]
  },
  {
   "cell_type": "code",
   "execution_count": 8,
   "id": "0ea9caaf-9084-4624-9e60-fbe425416577",
   "metadata": {},
   "outputs": [],
   "source": [
    "# 주소 -> 좌표 변환 요청 주소 https://dapi.kakao.com/v2/local/search/address.${FORMAT}\n",
    "def addr_lat_lon(addr):\n",
    "    url = 'https://dapi.kakao.com/v2/local/search/address.json?query={address}'.format(address=addr)\n",
    "    try : \n",
    "        res_json = json_request(url)\n",
    "        res = json.loads(res_json)\n",
    "        match_adr = res['documents'][0]['address']\n",
    "    except :\n",
    "        return 'NaN','NaN'\n",
    "    \n",
    "    return float(match_adr['x']), float(match_adr['y'])"
   ]
  },
  {
   "cell_type": "code",
   "execution_count": 9,
   "id": "66d1e531-3d2e-42f6-a48e-50ed8cbb4937",
   "metadata": {},
   "outputs": [],
   "source": [
    "# 주소 바꾸기 작업을 위해 pandas로 변환\n",
    "pd_df = read_restaurant_info.toPandas()"
   ]
  },
  {
   "cell_type": "code",
   "execution_count": 10,
   "id": "dc662ebe",
   "metadata": {},
   "outputs": [
    {
     "data": {
      "text/html": [
       "<div>\n",
       "<style scoped>\n",
       "    .dataframe tbody tr th:only-of-type {\n",
       "        vertical-align: middle;\n",
       "    }\n",
       "\n",
       "    .dataframe tbody tr th {\n",
       "        vertical-align: top;\n",
       "    }\n",
       "\n",
       "    .dataframe thead th {\n",
       "        text-align: right;\n",
       "    }\n",
       "</style>\n",
       "<table border=\"1\" class=\"dataframe\">\n",
       "  <thead>\n",
       "    <tr style=\"text-align: right;\">\n",
       "      <th></th>\n",
       "      <th>addr</th>\n",
       "      <th>food</th>\n",
       "      <th>re_rank1</th>\n",
       "      <th>re_rank2</th>\n",
       "      <th>re_rank3</th>\n",
       "      <th>re_rank4</th>\n",
       "      <th>re_rank5</th>\n",
       "      <th>re_visitor</th>\n",
       "      <th>store_name</th>\n",
       "      <th>tel</th>\n",
       "      <th>id</th>\n",
       "    </tr>\n",
       "  </thead>\n",
       "  <tbody>\n",
       "    <tr>\n",
       "      <th>0</th>\n",
       "      <td>서울 강동구 상일로6길 39 지하1층</td>\n",
       "      <td>간장게장</td>\n",
       "      <td>음식이 맛있어요 404</td>\n",
       "      <td>매장이 넓어요 170</td>\n",
       "      <td>양이 많아요 141</td>\n",
       "      <td>단체모임 하기 좋아요 131</td>\n",
       "      <td>가성비가 좋아요 125</td>\n",
       "      <td>게장이 짜지도않고너무 맛있어요부모님 모시고 가기 너무 좋아요먹고나오는데 매실차도 인...</td>\n",
       "      <td>강동반상</td>\n",
       "      <td>02-429-2733</td>\n",
       "      <td>1088</td>\n",
       "    </tr>\n",
       "    <tr>\n",
       "      <th>1</th>\n",
       "      <td>서울 강남구 선릉로131길 17 1층</td>\n",
       "      <td>간장게장</td>\n",
       "      <td>음식이 맛있어요 230</td>\n",
       "      <td>재료가 신선해요 164</td>\n",
       "      <td>매장이 청결해요 159</td>\n",
       "      <td>친절해요 147</td>\n",
       "      <td>특별한 메뉴가 있어요 80</td>\n",
       "      <td>비리지 않고 정갈하게 차려진 게장한상 외국분들 진짜 많이 와요 ㅎㅎ 🤩😝</td>\n",
       "      <td>게방식당</td>\n",
       "      <td>010-8479-1107</td>\n",
       "      <td>1092</td>\n",
       "    </tr>\n",
       "    <tr>\n",
       "      <th>2</th>\n",
       "      <td>서울 강남구 강남대로84길 33 대우디오빌플러스 지하1층 107호</td>\n",
       "      <td>간장게장</td>\n",
       "      <td>음식이 맛있어요 117</td>\n",
       "      <td>친절해요 80</td>\n",
       "      <td>재료가 신선해요 67</td>\n",
       "      <td>특별한 메뉴가 있어요 48</td>\n",
       "      <td>매장이 청결해요 38</td>\n",
       "      <td>간장게장을 좋아하는 우리 딸이 강남역 부근의 맛집을 찾았어요.오늘 처음 방문했는데,...</td>\n",
       "      <td>게새장터</td>\n",
       "      <td>0507-1344-8455</td>\n",
       "      <td>1105</td>\n",
       "    </tr>\n",
       "    <tr>\n",
       "      <th>3</th>\n",
       "      <td>서울 강서구 공항대로 269-15 힐스테이트에코 마곡 2층 220-1호 (A동 방향)</td>\n",
       "      <td>간장게장</td>\n",
       "      <td>음식이 맛있어요 1182</td>\n",
       "      <td>친절해요 697</td>\n",
       "      <td>재료가 신선해요 672</td>\n",
       "      <td>매장이 청결해요 601</td>\n",
       "      <td>가성비가 좋아요 482</td>\n",
       "      <td>점심시간때 같더니 가격도 할인되고 간장게장도 안짜고 너무 맛있고 살이 꽉 차있고 반...</td>\n",
       "      <td>게장게장게장 마곡본점</td>\n",
       "      <td>0507-1365-0490</td>\n",
       "      <td>1081</td>\n",
       "    </tr>\n",
       "    <tr>\n",
       "      <th>4</th>\n",
       "      <td>서울 서대문구 연희로26길 28</td>\n",
       "      <td>간장게장</td>\n",
       "      <td>음식이 맛있어요 413</td>\n",
       "      <td>친절해요 157</td>\n",
       "      <td>재료가 신선해요 155</td>\n",
       "      <td>가성비가 좋아요 118</td>\n",
       "      <td>단체모임 하기 좋아요 96</td>\n",
       "      <td>고미정에 주말 점심시간에 방문해서 쌀밥 정식과 게장 정식을 먹었는데 너무 만족스러웠...</td>\n",
       "      <td>고미정</td>\n",
       "      <td>010-2105-0155</td>\n",
       "      <td>1078</td>\n",
       "    </tr>\n",
       "  </tbody>\n",
       "</table>\n",
       "</div>"
      ],
      "text/plain": [
       "                                              addr  food       re_rank1  \\\n",
       "0                             서울 강동구 상일로6길 39 지하1층  간장게장   음식이 맛있어요 404   \n",
       "1                             서울 강남구 선릉로131길 17 1층  간장게장   음식이 맛있어요 230   \n",
       "2             서울 강남구 강남대로84길 33 대우디오빌플러스 지하1층 107호  간장게장   음식이 맛있어요 117   \n",
       "3  서울 강서구 공항대로 269-15 힐스테이트에코 마곡 2층 220-1호 (A동 방향)  간장게장  음식이 맛있어요 1182   \n",
       "4                                서울 서대문구 연희로26길 28  간장게장   음식이 맛있어요 413   \n",
       "\n",
       "       re_rank2      re_rank3         re_rank4        re_rank5  \\\n",
       "0   매장이 넓어요 170    양이 많아요 141  단체모임 하기 좋아요 131    가성비가 좋아요 125   \n",
       "1  재료가 신선해요 164  매장이 청결해요 159         친절해요 147  특별한 메뉴가 있어요 80   \n",
       "2       친절해요 80   재료가 신선해요 67   특별한 메뉴가 있어요 48     매장이 청결해요 38   \n",
       "3      친절해요 697  재료가 신선해요 672     매장이 청결해요 601    가성비가 좋아요 482   \n",
       "4      친절해요 157  재료가 신선해요 155     가성비가 좋아요 118  단체모임 하기 좋아요 96   \n",
       "\n",
       "                                          re_visitor   store_name  \\\n",
       "0  게장이 짜지도않고너무 맛있어요부모님 모시고 가기 너무 좋아요먹고나오는데 매실차도 인...         강동반상   \n",
       "1           비리지 않고 정갈하게 차려진 게장한상 외국분들 진짜 많이 와요 ㅎㅎ 🤩😝         게방식당   \n",
       "2  간장게장을 좋아하는 우리 딸이 강남역 부근의 맛집을 찾았어요.오늘 처음 방문했는데,...         게새장터   \n",
       "3  점심시간때 같더니 가격도 할인되고 간장게장도 안짜고 너무 맛있고 살이 꽉 차있고 반...  게장게장게장 마곡본점   \n",
       "4  고미정에 주말 점심시간에 방문해서 쌀밥 정식과 게장 정식을 먹었는데 너무 만족스러웠...          고미정   \n",
       "\n",
       "              tel    id  \n",
       "0     02-429-2733  1088  \n",
       "1   010-8479-1107  1092  \n",
       "2  0507-1344-8455  1105  \n",
       "3  0507-1365-0490  1081  \n",
       "4   010-2105-0155  1078  "
      ]
     },
     "execution_count": 10,
     "metadata": {},
     "output_type": "execute_result"
    }
   ],
   "source": [
    "pd_df.head()"
   ]
  },
  {
   "cell_type": "code",
   "execution_count": 11,
   "id": "56858fb0-9687-40b3-aee1-ed96b24c1e5c",
   "metadata": {},
   "outputs": [],
   "source": [
    "# 주소 바꿀 함수 \n",
    "def cg_addr(df, store_name, new_address):\n",
    "    df.loc[df['store_name'] == store_name, 'addr'] = new_address\n",
    "    return df"
   ]
  },
  {
   "cell_type": "code",
   "execution_count": 12,
   "id": "b21a6f69-8dea-478e-927b-3e5a8e43dc7c",
   "metadata": {},
   "outputs": [],
   "source": [
    "# # 주소 존재하는지 확인용 코드\n",
    "# filtered_df = pd[pd['store_name'].str.contains('육몽 홍대본점')]\n",
    "# selected_columns_df = filtered_df[['store_name', 'addr']]\n",
    "# print(selected_columns_df)\n",
    "# a = '서울 마포구 양화로16길 19'\n",
    "# addr_lat_lon(a)"
   ]
  },
  {
   "cell_type": "code",
   "execution_count": 13,
   "id": "72a1c8f5-9ed8-4bab-b7df-b35e098d3214",
   "metadata": {},
   "outputs": [],
   "source": [
    "# 주소 바꾸기 실행\n",
    "pd_df = cg_addr(pd_df, '사대부집 곳간', '서울 영등포구 여의대로 24 전경련회관')\n",
    "pd_df = cg_addr(pd_df, '무청감자탕 수유점', '서울 강북구 도봉로87길 47')\n",
    "pd_df = cg_addr(pd_df, '화목순대국', '서울 영등포구 여의대방로 383')\n",
    "pd_df = cg_addr(pd_df, '봉열소곱창', '서울 송파구 송파대로 111')\n",
    "pd_df = cg_addr(pd_df, '한양양곱창 본점', '서울 성동구 마조로 17')\n",
    "pd_df = cg_addr(pd_df, '백곰막걸리', '서울 강남구 압구정로48길 39')\n",
    "pd_df = cg_addr(pd_df, '신가네해물닭갈비', '서울 강동구 구천면로24길 26')\n",
    "pd_df = cg_addr(pd_df, '춘천골닭갈비', '서울 노원구 상계로 90 마블러스')\n",
    "pd_df = cg_addr(pd_df, '종로계림닭도리탕 충무로직영점', '서울 중구 충무로2길 43')\n",
    "pd_df = cg_addr(pd_df, '청계산장수촌', '서울 서초구 원터5길 14')\n",
    "pd_df = cg_addr(pd_df, '모퉁이네', '서울 영등포구 국제금융로6길 33')\n",
    "pd_df = cg_addr(pd_df, '족발야시장 은평뉴타운점', '서울 은평구 통일로 1020')\n",
    "pd_df = cg_addr(pd_df, 'Gongi', '서울 용산구 이태원로45길 4')\n",
    "pd_df = cg_addr(pd_df, '효미역 서래마을점', '서울 서초구 서래로 5')\n",
    "pd_df = cg_addr(pd_df, '능동미나리', '서울 용산구 한강대로40길 28')\n",
    "pd_df = cg_addr(pd_df, '방이별관 잠실방이점', '서울 송파구 올림픽로32길 33')\n",
    "pd_df = cg_addr(pd_df, '육몽 홍대본점', '서울 마포구 양화로16길 19')"
   ]
  },
  {
   "cell_type": "code",
   "execution_count": 14,
   "id": "9d26d6f4-9a2a-4d96-92b3-d49ec4521b85",
   "metadata": {},
   "outputs": [],
   "source": [
    "# pandas를 다시 pyspark로 변환\n",
    "pd.DataFrame.iteritems = pd.DataFrame.items\n",
    "df_spark = spark.createDataFrame(pd_df)"
   ]
  },
  {
   "cell_type": "code",
   "execution_count": 15,
   "id": "6521820c-f847-4003-a220-ff8eece4c028",
   "metadata": {},
   "outputs": [],
   "source": [
    "# 'addr_lat_lon' 함수를 PySpark UDF로 등록 -> 좌표를 구하는 함수를 각 row마다 실행시키기 위해\n",
    "udf_addr_lat_lon = udf(addr_lat_lon, StructType([\n",
    "    StructField(\"x\", FloatType(), True),\n",
    "    StructField(\"y\", FloatType(), True)\n",
    "]))"
   ]
  },
  {
   "cell_type": "code",
   "execution_count": 16,
   "id": "e7416e43-d3d4-4e38-aa86-588e047c0ba3",
   "metadata": {},
   "outputs": [],
   "source": [
    "# 좌표컬럼을 추가, 튜플로 좌표가 들어감\n",
    "# '좌표' 컬럼을 가지고 있는 df = res_point\n",
    "res = df_spark\n",
    "res_point = res.withColumn(\"좌표\", udf_addr_lat_lon(\"addr\"))\\\n",
    "                .persist()\n",
    "# res_point.select('store_name', 'addr', '좌표').show(2, truncate=False)"
   ]
  },
  {
   "cell_type": "code",
   "execution_count": 17,
   "id": "3aa6d208-f8e6-4cf4-9a76-7122deb424ed",
   "metadata": {},
   "outputs": [],
   "source": [
    "# x, y좌표를 나누는 함수 작성\n",
    "def extract_coordinates(coord):\n",
    "    if coord:\n",
    "        return coord.x, coord.y\n",
    "    else:\n",
    "        return None, None\n",
    "\n",
    "# 'extract_coordinates' 함수를 PySpark UDF로 등록\n",
    "udf_extract_coordinates = udf(extract_coordinates, StructType([\n",
    "    StructField(\"x\", FloatType(), True),\n",
    "    StructField(\"y\", FloatType(), True)\n",
    "]))"
   ]
  },
  {
   "cell_type": "code",
   "execution_count": 18,
   "id": "7b71ce93-cebf-44a8-a42a-020c523493c2",
   "metadata": {},
   "outputs": [],
   "source": [
    "# restaurant_df에 최종 x,y좌표를 나눠서 입력.\n",
    "restaurant_df = res_point.withColumn(\"x좌표\", udf_extract_coordinates(\"좌표\").getField(\"x\"))\\\n",
    "                    .withColumn(\"y좌표\", udf_extract_coordinates(\"좌표\").getField(\"y\")).persist()\n"
   ]
  },
  {
   "cell_type": "code",
   "execution_count": 19,
   "id": "fe4bb4f6-6837-4210-bf6a-9cdb5bf06869",
   "metadata": {},
   "outputs": [],
   "source": [
    "# 중복 행 제거\n",
    "# result_df = restaurant_df.dropDuplicates([\"store_name\", \"food\", 'addr'])\n",
    "from pyspark.sql import SparkSession\n",
    "from pyspark.sql.functions import monotonically_increasing_id"
   ]
  },
  {
   "cell_type": "code",
   "execution_count": 20,
   "id": "6c922747-5ecc-483b-87d3-4a26ef6af080",
   "metadata": {},
   "outputs": [],
   "source": [
    "columns_to_drop = ['re_rank1', 're_rank2', 're_rank3', 're_rank4', 're_rank5', 're_visitor', '좌표']\n",
    "restaurant_df = restaurant_df.drop(*columns_to_drop)"
   ]
  },
  {
   "cell_type": "code",
   "execution_count": 21,
   "id": "cf8c68a2-fa81-4c79-99d8-269b01310fee",
   "metadata": {},
   "outputs": [
    {
     "name": "stdout",
     "output_type": "stream",
     "text": [
      "root\n",
      " |-- addr: string (nullable = true)\n",
      " |-- food: string (nullable = true)\n",
      " |-- store_name: string (nullable = true)\n",
      " |-- tel: string (nullable = true)\n",
      " |-- id: long (nullable = true)\n",
      " |-- x좌표: float (nullable = true)\n",
      " |-- y좌표: float (nullable = true)\n",
      "\n"
     ]
    }
   ],
   "source": [
    "restaurant_df.printSchema()"
   ]
  },
  {
   "cell_type": "code",
   "execution_count": 22,
   "id": "cf266d8c",
   "metadata": {},
   "outputs": [],
   "source": [
    "# restaurant_df.count()"
   ]
  },
  {
   "cell_type": "code",
   "execution_count": null,
   "id": "5c197242-6096-4a0f-a60c-44836f6cf649",
   "metadata": {},
   "outputs": [],
   "source": [
    "save_data(conf_dm, restaurant_df, 'RESTAURANT_INFO')"
   ]
  },
  {
   "cell_type": "code",
   "execution_count": null,
   "id": "cf20899a",
   "metadata": {},
   "outputs": [],
   "source": [
    "restaurant_df.show()"
   ]
  },
  {
   "cell_type": "code",
   "execution_count": null,
   "id": "5aa10e3e",
   "metadata": {},
   "outputs": [],
   "source": []
  }
 ],
 "metadata": {
  "kernelspec": {
   "display_name": "Python 3",
   "language": "python",
   "name": "python3"
  },
  "language_info": {
   "codemirror_mode": {
    "name": "ipython",
    "version": 3
   },
   "file_extension": ".py",
   "mimetype": "text/x-python",
   "name": "python",
   "nbconvert_exporter": "python",
   "pygments_lexer": "ipython3",
   "version": "3.6.9"
  }
 },
 "nbformat": 4,
 "nbformat_minor": 5
}
