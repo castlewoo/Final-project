{
 "cells": [
  {
   "cell_type": "code",
   "execution_count": 16,
   "id": "9c888e4f",
   "metadata": {},
   "outputs": [],
   "source": [
    "import requests, json\n",
    "from bs4 import BeautifulSoup\n",
    "import wikipediaapi\n",
    "\n",
    "def food_info(name):\n",
    "    url = f\"https://www.10000recipe.com/recipe/list.html?q={name}\"\n",
    "    response = requests.get(url)\n",
    "    if response.status_code == 200:\n",
    "        html = response.text\n",
    "        soup = BeautifulSoup(html, 'html.parser')\n",
    "    else : \n",
    "        print(\"HTTP response error :\", response.status_code)\n",
    "        return\n",
    "    \n",
    "    food_list = soup.find_all(attrs={'class':'common_sp_link'})\n",
    "    food_id = food_list[0]['href'].split('/')[-1]\n",
    "    new_url = f'https://www.10000recipe.com/recipe/{food_id}'\n",
    "    new_response = requests.get(new_url)\n",
    "    if new_response.status_code == 200:\n",
    "        html = new_response.text\n",
    "        soup = BeautifulSoup(html, 'html.parser')\n",
    "    else : \n",
    "        print(\"HTTP response error :\", response.status_code)\n",
    "        return\n",
    "    \n",
    "    food_info = soup.find(attrs={'type':'application/ld+json'})\n",
    "    result = json.loads(food_info.text)\n",
    "    ingredient = ','.join(result['recipeIngredient'])\n",
    "    wiki_ko = wikipediaapi.Wikipedia('KFR ()', 'ko')\n",
    "    page_py_ko = wiki_ko.page(name)\n",
    "    \n",
    "    res = {\n",
    "        '음식': name,\n",
    "        '정보': page_py_ko.summary,\n",
    "        '재료': ingredient\n",
    "    }\n",
    "\n",
    "    return res"
   ]
  },
  {
   "cell_type": "code",
   "execution_count": 17,
   "id": "b25b89fe",
   "metadata": {},
   "outputs": [
    {
     "data": {
      "text/plain": [
       "{'음식': '김치찌개',\n",
       " '정보': '김치찌개(영어: Kimchi-jjigae)는 대표적인 한국 요리 중 하나로, 김치를 넣고 얼큰하게 끓인 찌개이다. 된장찌개, 순두부찌개와 함께 가장 널리 알려진 찌개 요리이다.',\n",
       " '재료': '김치 1/2포기,포도씨유 1큰술,깍두기국물 1/3컵,대파,두부,물(멸치육수),참치 1캔,설탕,고춧가루,다진 마늘 1큰술,멸치육수'}"
      ]
     },
     "execution_count": 17,
     "metadata": {},
     "output_type": "execute_result"
    }
   ],
   "source": [
    "food_info('김치찌개')"
   ]
  },
  {
   "cell_type": "code",
   "execution_count": null,
   "id": "bcd40b4b",
   "metadata": {},
   "outputs": [],
   "source": []
  }
 ],
 "metadata": {
  "kernelspec": {
   "display_name": "Python 3 (ipykernel)",
   "language": "python",
   "name": "python3"
  },
  "language_info": {
   "codemirror_mode": {
    "name": "ipython",
    "version": 3
   },
   "file_extension": ".py",
   "mimetype": "text/x-python",
   "name": "python",
   "nbconvert_exporter": "python",
   "pygments_lexer": "ipython3",
   "version": "3.11.5"
  }
 },
 "nbformat": 4,
 "nbformat_minor": 5
}
